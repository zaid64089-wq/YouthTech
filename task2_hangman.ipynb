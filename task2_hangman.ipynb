{
 "cells": [
  {
   "cell_type": "code",
   "execution_count": 1,
   "id": "df84583b-bb8d-40b4-b39a-fc3ef238d003",
   "metadata": {},
   "outputs": [
    {
     "name": "stdout",
     "output_type": "stream",
     "text": [
      "Welcome to Hangman!\n",
      "_ _ _ _ _ _ _ _ _ _ _\n"
     ]
    },
    {
     "name": "stdin",
     "output_type": "stream",
     "text": [
      "Guess a letter:  p\n"
     ]
    },
    {
     "name": "stdout",
     "output_type": "stream",
     "text": [
      "Correct!\n",
      "p _ _ _ _ _ _ _ _ _ _\n"
     ]
    },
    {
     "name": "stdin",
     "output_type": "stream",
     "text": [
      "Guess a letter:  r\n"
     ]
    },
    {
     "name": "stdout",
     "output_type": "stream",
     "text": [
      "Correct!\n",
      "p r _ _ r _ _ _ _ _ _\n"
     ]
    },
    {
     "name": "stdin",
     "output_type": "stream",
     "text": [
      "Guess a letter:  o\n"
     ]
    },
    {
     "name": "stdout",
     "output_type": "stream",
     "text": [
      "Correct!\n",
      "p r o _ r _ _ _ _ _ _\n"
     ]
    },
    {
     "name": "stdin",
     "output_type": "stream",
     "text": [
      "Guess a letter:  g\n"
     ]
    },
    {
     "name": "stdout",
     "output_type": "stream",
     "text": [
      "Correct!\n",
      "p r o g r _ _ _ _ _ g\n"
     ]
    },
    {
     "name": "stdin",
     "output_type": "stream",
     "text": [
      "Guess a letter:  a\n"
     ]
    },
    {
     "name": "stdout",
     "output_type": "stream",
     "text": [
      "Correct!\n",
      "p r o g r a _ _ _ _ g\n"
     ]
    },
    {
     "name": "stdin",
     "output_type": "stream",
     "text": [
      "Guess a letter:  m\n"
     ]
    },
    {
     "name": "stdout",
     "output_type": "stream",
     "text": [
      "Correct!\n",
      "p r o g r a m m _ _ g\n"
     ]
    },
    {
     "name": "stdin",
     "output_type": "stream",
     "text": [
      "Guess a letter:  m\n"
     ]
    },
    {
     "name": "stdout",
     "output_type": "stream",
     "text": [
      "You already guessed that letter.\n"
     ]
    },
    {
     "name": "stdin",
     "output_type": "stream",
     "text": [
      "Guess a letter:  i\n"
     ]
    },
    {
     "name": "stdout",
     "output_type": "stream",
     "text": [
      "Correct!\n",
      "p r o g r a m m i _ g\n"
     ]
    },
    {
     "name": "stdin",
     "output_type": "stream",
     "text": [
      "Guess a letter:  n\n"
     ]
    },
    {
     "name": "stdout",
     "output_type": "stream",
     "text": [
      "Correct!\n",
      "p r o g r a m m i n g\n",
      "Congratulations! You guessed the word: programming\n"
     ]
    }
   ],
   "source": [
    "import random\n",
    "\n",
    "def hangman():\n",
    "    words = [\"python\", \"hangman\", \"computer\", \"programming\", \"keyboard\"]\n",
    "    secret_word = random.choice(words).lower()\n",
    "    guessed_letters = []\n",
    "    attempts = 6\n",
    "    word_progress = [\"_\"] * len(secret_word)\n",
    "\n",
    "    print(\"Welcome to Hangman!\")\n",
    "    print(\" \".join(word_progress))\n",
    "\n",
    "    while attempts > 0 and \"_\" in word_progress:\n",
    "        guess = input(\"Guess a letter: \").lower()\n",
    "\n",
    "        if len(guess) != 1 or not guess.isalpha():\n",
    "            print(\"Please enter a single letter.\")\n",
    "            continue\n",
    "\n",
    "        if guess in guessed_letters:\n",
    "            print(\"You already guessed that letter.\")\n",
    "            continue\n",
    "\n",
    "        guessed_letters.append(guess)\n",
    "\n",
    "        if guess in secret_word:\n",
    "            for i, letter in enumerate(secret_word):\n",
    "                if letter == guess:\n",
    "                    word_progress[i] = guess\n",
    "            print(\"Correct!\")\n",
    "        else:\n",
    "            attempts -= 1\n",
    "            print(f\"Wrong! You have {attempts} attempts left.\")\n",
    "\n",
    "        print(\" \".join(word_progress))\n",
    "\n",
    "    if \"_\" not in word_progress:\n",
    "        print(f\"Congratulations! You guessed the word: {secret_word}\")\n",
    "    else:\n",
    "        print(f\"Game over! The word was: {secret_word}\")\n",
    "\n",
    "hangman()"
   ]
  },
  {
   "cell_type": "code",
   "execution_count": null,
   "id": "bff400a4-1607-4f26-bd8b-95c11042dc08",
   "metadata": {},
   "outputs": [],
   "source": []
  },
  {
   "cell_type": "code",
   "execution_count": null,
   "id": "f642ef4f-e38b-4bd2-9150-2f09a3e032a3",
   "metadata": {},
   "outputs": [],
   "source": []
  }
 ],
 "metadata": {
  "kernelspec": {
   "display_name": "Python 3 (ipykernel)",
   "language": "python",
   "name": "python3"
  },
  "language_info": {
   "codemirror_mode": {
    "name": "ipython",
    "version": 3
   },
   "file_extension": ".py",
   "mimetype": "text/x-python",
   "name": "python",
   "nbconvert_exporter": "python",
   "pygments_lexer": "ipython3",
   "version": "3.13.5"
  }
 },
 "nbformat": 4,
 "nbformat_minor": 5
}
